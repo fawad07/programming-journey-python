{
 "cells": [
  {
   "cell_type": "code",
   "execution_count": 21,
   "id": "2e355296",
   "metadata": {},
   "outputs": [],
   "source": [
    "import requests\n",
    "import datetime"
   ]
  },
  {
   "cell_type": "code",
   "execution_count": 11,
   "id": "defcda56",
   "metadata": {},
   "outputs": [],
   "source": [
    "USERNAME = 'fawad'\n",
    "TOKEN = 'H2oco2hcl@'\n",
    "\n",
    "PIXELA_ENDPOINT = \"https://pixe.la/v1/users\""
   ]
  },
  {
   "cell_type": "code",
   "execution_count": 12,
   "id": "6de29ad5",
   "metadata": {},
   "outputs": [],
   "source": [
    "'''STEP 1: CREATE USER ACCOUNT'''\n",
    "user_params = {\n",
    "    \"token\": TOKEN,\n",
    "     \"username\": USERNAME,\n",
    "     \"agreeTermsOfService\": \"yes\",\n",
    "     \"notMinor\": \"yes\"\n",
    "}\n",
    "\n",
    "#res = requests.post(url=PIXELA_ENDPOINT, json=user_params)\n",
    "#print(res.text)\n"
   ]
  },
  {
   "cell_type": "code",
   "execution_count": 19,
   "id": "6ce9f660",
   "metadata": {},
   "outputs": [
    {
     "name": "stdout",
     "output_type": "stream",
     "text": [
      "{\"message\":\"This graphID already exist.\",\"isSuccess\":false}\n"
     ]
    }
   ],
   "source": [
    "'''STEP 2: CREATE GRAPH DEFINATION'''\n",
    "\n",
    "GRAPH_ENDPOINT = f\"{PIXELA_ENDPOINT}/{USERNAME}/graphs\"\n",
    "graph_params = {\n",
    "    \"id\": \"graph1\",\n",
    "    \"name\":\"calorie counter\",\n",
    "    \"unit\":\"calorie\",\n",
    "    \"type\":\"float\",\n",
    "    \"color\":\"kuro\"\n",
    "}\n",
    "\n",
    "headers = {\n",
    "    \"X-USER-TOKEN\":TOKEN\n",
    "}\n",
    "res = requests.post(url=GRAPH_ENDPOINT, json=graph_params, headers=headers)\n",
    "print(res.text)"
   ]
  },
  {
   "cell_type": "code",
   "execution_count": 23,
   "id": "1b5ee06b",
   "metadata": {},
   "outputs": [
    {
     "name": "stdout",
     "output_type": "stream",
     "text": [
      "{\"message\":\"Success.\",\"isSuccess\":true}\n"
     ]
    }
   ],
   "source": [
    "'''STEP 3: POST PIXEL'''\n",
    "POST_PIXEL_ENDPOINT = f\"{PIXELA_ENDPOINT}/{USERNAME}/graphs/{graph_params['id']}\"\n",
    "now = datetime.datetime.now()\n",
    "now = now.strftime(\"%Y%m%d\")\n",
    "post_params = {\n",
    "    \"date\": now,\n",
    "    \"quantity\": \"540.0\"\n",
    "}\n",
    "res = requests.post(url=POST_PIXEL_ENDPOINT, json=post_params,headers=headers)\n",
    "print(res.text)"
   ]
  },
  {
   "cell_type": "code",
   "execution_count": 24,
   "id": "e7385024",
   "metadata": {},
   "outputs": [
    {
     "name": "stdout",
     "output_type": "stream",
     "text": [
      "{\"message\":\"Success.\",\"isSuccess\":true}\n"
     ]
    }
   ],
   "source": [
    "'''UPDATE PIXEL'''\n",
    "UPDATE_ENDPOINT = f\"{PIXELA_ENDPOINT}/{USERNAME}/graphs/{graph_params['id']}/{now}\"\n",
    "update_params ={\n",
    "    \"quantity\":\"640.25\"\n",
    "}\n",
    "\n",
    "res = requests.put(UPDATE_ENDPOINT,json=update_params, headers=headers)\n",
    "print(res.text)"
   ]
  },
  {
   "cell_type": "code",
   "execution_count": 25,
   "id": "b335af95",
   "metadata": {},
   "outputs": [
    {
     "name": "stdout",
     "output_type": "stream",
     "text": [
      "{\"message\":\"Success.\",\"isSuccess\":true}\n"
     ]
    }
   ],
   "source": [
    "'''DELETE PIXEL'''\n",
    "DELETE_ENDPOINT = f\"{PIXELA_ENDPOINT}/{USERNAME}/graphs/{graph_params['id']}/{now}\"\n",
    "res = requests.delete(url=DELETE_ENDPOINT,headers=headers)\n",
    "print(res.text)"
   ]
  },
  {
   "cell_type": "code",
   "execution_count": null,
   "id": "27f3e09b",
   "metadata": {},
   "outputs": [],
   "source": []
  }
 ],
 "metadata": {
  "kernelspec": {
   "display_name": "Python 3 (ipykernel)",
   "language": "python",
   "name": "python3"
  },
  "language_info": {
   "codemirror_mode": {
    "name": "ipython",
    "version": 3
   },
   "file_extension": ".py",
   "mimetype": "text/x-python",
   "name": "python",
   "nbconvert_exporter": "python",
   "pygments_lexer": "ipython3",
   "version": "3.9.7"
  }
 },
 "nbformat": 4,
 "nbformat_minor": 5
}
