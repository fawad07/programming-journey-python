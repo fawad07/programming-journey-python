{
 "cells": [
  {
   "cell_type": "code",
   "execution_count": 1,
   "id": "3bb91532",
   "metadata": {},
   "outputs": [],
   "source": [
    "import turtle\n",
    "import pandas as pd"
   ]
  },
  {
   "cell_type": "code",
   "execution_count": null,
   "id": "446dafc1",
   "metadata": {},
   "outputs": [],
   "source": [
    "screen = turtle.Screen()\n",
    "screen.title(\"US state Game\")\n",
    "img = \"blank_states_img.gif\"\n",
    "screen.addshape(img)\n",
    "turtle.shape(img)\n",
    "\n",
    "guessed_state = []\n",
    "\n",
    "df = pd.read_csv(\"50_states.csv\")\n",
    "all_states = df[\"state\"].to_list()\n",
    "\n",
    "while len(guessed_state) < 50:\n",
    "    ans_state = screen.textinput(title=f\"{len(guessed_state)}/50 states correct\",\n",
    "                                 prompt=\"what is a different state name\").title()\n",
    "    #print(ans_state)\n",
    "    if ans_state == \"Exit\":\n",
    "        missing_state = []\n",
    "        for i in all_states:\n",
    "            if i not in guessed_states:\n",
    "                missing_state.append(i)\n",
    "        new_data = pd.DataFrame(missing_states)\n",
    "        new_data.tocsv(\"states_to_learn.csv\")\n",
    "        break\n",
    "    if ans_state in all_states:\n",
    "        guessed_state.append(ans_state)\n",
    "        t = turtle.Turtle()\n",
    "        t.penup()\n",
    "        state_d = df[df[\"state\"] == ans_state]\n",
    "        t.goto(int(state_d.x), int(state_d.y))\n",
    "        t.write(ans_state)\n",
    "\n",
    "\n",
    "#screen.exitonclick()"
   ]
  },
  {
   "cell_type": "code",
   "execution_count": null,
   "id": "7933d829",
   "metadata": {},
   "outputs": [],
   "source": [
    "#def get_mouse_click_coor(x, y):\n",
    "#    print(x, y)\n",
    "\n",
    "#turtle.onscreenclick(get_mouse_click_coor)\n",
    "#turtle.mainloop()\n",
    "\n",
    "#screen.exitonclick()"
   ]
  },
  {
   "cell_type": "code",
   "execution_count": null,
   "id": "02e1a994",
   "metadata": {},
   "outputs": [],
   "source": []
  },
  {
   "cell_type": "code",
   "execution_count": null,
   "id": "cc7d66b2",
   "metadata": {},
   "outputs": [],
   "source": []
  }
 ],
 "metadata": {
  "kernelspec": {
   "display_name": "Python 3 (ipykernel)",
   "language": "python",
   "name": "python3"
  },
  "language_info": {
   "codemirror_mode": {
    "name": "ipython",
    "version": 3
   },
   "file_extension": ".py",
   "mimetype": "text/x-python",
   "name": "python",
   "nbconvert_exporter": "python",
   "pygments_lexer": "ipython3",
   "version": "3.9.7"
  }
 },
 "nbformat": 4,
 "nbformat_minor": 5
}
