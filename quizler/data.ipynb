{
 "cells": [
  {
   "cell_type": "code",
   "execution_count": 1,
   "id": "e0b1b965",
   "metadata": {},
   "outputs": [],
   "source": [
    "import requests\n",
    "from tkinter import *"
   ]
  },
  {
   "cell_type": "code",
   "execution_count": 2,
   "id": "c4bce337",
   "metadata": {},
   "outputs": [],
   "source": [
    "#--------CONSTANTS----------------------------------------\n",
    "URL = \"https://opentdb.com/api.php?amount=10&type=boolean\""
   ]
  },
  {
   "cell_type": "code",
   "execution_count": 4,
   "id": "0287c0c2",
   "metadata": {},
   "outputs": [
    {
     "data": {
      "text/plain": [
       "[{'category': 'Entertainment: Video Games',\n",
       "  'type': 'boolean',\n",
       "  'difficulty': 'easy',\n",
       "  'question': 'The song &quot;Megalovania&quot; by Toby Fox made its third appearence in the 2015 RPG &quot;Undertale&quot;.',\n",
       "  'correct_answer': 'True',\n",
       "  'incorrect_answers': ['False']},\n",
       " {'category': 'Science: Computers',\n",
       "  'type': 'boolean',\n",
       "  'difficulty': 'easy',\n",
       "  'question': 'The programming language &quot;Python&quot; is based off a modified version of &quot;JavaScript&quot;.',\n",
       "  'correct_answer': 'False',\n",
       "  'incorrect_answers': ['True']},\n",
       " {'category': 'General Knowledge',\n",
       "  'type': 'boolean',\n",
       "  'difficulty': 'easy',\n",
       "  'question': 'Nutella is produced by the German company Ferrero.',\n",
       "  'correct_answer': 'False',\n",
       "  'incorrect_answers': ['True']},\n",
       " {'category': 'General Knowledge',\n",
       "  'type': 'boolean',\n",
       "  'difficulty': 'medium',\n",
       "  'question': 'The average woman is 5 inches / 13 centimeters shorter than the average man.',\n",
       "  'correct_answer': 'True',\n",
       "  'incorrect_answers': ['False']},\n",
       " {'category': 'Animals',\n",
       "  'type': 'boolean',\n",
       "  'difficulty': 'easy',\n",
       "  'question': 'Rabbits are rodents.',\n",
       "  'correct_answer': 'False',\n",
       "  'incorrect_answers': ['True']},\n",
       " {'category': 'Science: Computers',\n",
       "  'type': 'boolean',\n",
       "  'difficulty': 'easy',\n",
       "  'question': 'In most programming languages, the operator ++ is equivalent to the statement &quot;+= 1&quot;.',\n",
       "  'correct_answer': 'True',\n",
       "  'incorrect_answers': ['False']},\n",
       " {'category': 'Entertainment: Music',\n",
       "  'type': 'boolean',\n",
       "  'difficulty': 'medium',\n",
       "  'question': '&quot;Twenty One Pilots&quot; made the song &quot;The Motion&quot; featuring Sampha.',\n",
       "  'correct_answer': 'False',\n",
       "  'incorrect_answers': ['True']},\n",
       " {'category': 'Entertainment: Music',\n",
       "  'type': 'boolean',\n",
       "  'difficulty': 'medium',\n",
       "  'question': 'Dave Grohl recorded the Foo Fighters&#039; debut, &quot;Foo Fighters,&quot; by himself.',\n",
       "  'correct_answer': 'True',\n",
       "  'incorrect_answers': ['False']},\n",
       " {'category': 'Science: Mathematics',\n",
       "  'type': 'boolean',\n",
       "  'difficulty': 'easy',\n",
       "  'question': 'A scalene triangle has two sides of equal length.',\n",
       "  'correct_answer': 'False',\n",
       "  'incorrect_answers': ['True']},\n",
       " {'category': 'Entertainment: Video Games',\n",
       "  'type': 'boolean',\n",
       "  'difficulty': 'medium',\n",
       "  'question': 'Shang Tsung is a playable character in Mortal Kombat XL.',\n",
       "  'correct_answer': 'False',\n",
       "  'incorrect_answers': ['True']}]"
      ]
     },
     "execution_count": 4,
     "metadata": {},
     "output_type": "execute_result"
    }
   ],
   "source": [
    "#--parameters shoudl be the same as the one api uses\n",
    "parameter = {\n",
    "    \"amount\":10,\n",
    "    \"type\":\"boolean\"\n",
    "}\n",
    "\n",
    "req = requests.get(URL, params=parameter)\n",
    "req.raise_for_status()\n",
    "data = req.json();\n",
    "question_data = data[\"results\"]\n",
    "question_data"
   ]
  },
  {
   "cell_type": "code",
   "execution_count": 71,
   "id": "779ee026",
   "metadata": {},
   "outputs": [],
   "source": [
    "#____UI________________\n",
    "class QuizInterface:\n",
    "    def __init__(self):\n",
    "        self.window = Tk()\n",
    "        self.window.title(\"QUIZLER\")\n",
    "        self.window.config(padx=20, pady=20, bg=\"#375362\")\n",
    "        \n",
    "        self.canvas = Canvas(width=300, height=300, bg=\"white\")\n",
    "        self.text = self.canvas.create_text(\n",
    "            150,\n",
    "            150,\n",
    "            text=\"some question or text\",\n",
    "            fill=\"#375362\",\n",
    "            font=(\"Times New Roman\", 20, \"italic\"))\n",
    "        self.canvas.grid(column=0, row=1, columnspan=2, pady=50)\n",
    "        \n",
    "        self.score_l = Label(text=\"Score: 0 \",fg=\"white\",bg=\"#375362\", font=(\"Times new Roman\", 20, \"italic\"))\n",
    "        self.score_l.grid(column=1, row=0)\n",
    "        \n",
    "        self.true_btn = Button(text=\"True\", width=15)\n",
    "        self.true_btn.config(padx=12, pady=12)\n",
    "        self.true_btn.grid(column=0, row=2)\n",
    "        \n",
    "        self.false_btn = Button(text=\"False\", width=15)\n",
    "        self.false_btn.config(padx=12, pady=12)\n",
    "        self.false_btn.grid(column=1, row=2)\n",
    "        \n",
    "        \n",
    "        self.window.mainloop()\n",
    "        "
   ]
  },
  {
   "cell_type": "code",
   "execution_count": 72,
   "id": "99fc1d67",
   "metadata": {},
   "outputs": [],
   "source": [
    "quiz = QuizInterface()"
   ]
  },
  {
   "cell_type": "code",
   "execution_count": null,
   "id": "faa2cba6",
   "metadata": {},
   "outputs": [],
   "source": []
  }
 ],
 "metadata": {
  "kernelspec": {
   "display_name": "Python 3 (ipykernel)",
   "language": "python",
   "name": "python3"
  },
  "language_info": {
   "codemirror_mode": {
    "name": "ipython",
    "version": 3
   },
   "file_extension": ".py",
   "mimetype": "text/x-python",
   "name": "python",
   "nbconvert_exporter": "python",
   "pygments_lexer": "ipython3",
   "version": "3.9.7"
  }
 },
 "nbformat": 4,
 "nbformat_minor": 5
}
