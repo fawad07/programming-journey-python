{
 "cells": [
  {
   "cell_type": "code",
   "execution_count": 4,
   "id": "a805793c",
   "metadata": {},
   "outputs": [],
   "source": [
    "import tkinter"
   ]
  },
  {
   "cell_type": "code",
   "execution_count": 10,
   "id": "44e4a4fe",
   "metadata": {},
   "outputs": [
    {
     "name": "stdout",
     "output_type": "stream",
     "text": [
      "BTN CLICKED\n",
      "2\n",
      "3.218\n"
     ]
    }
   ],
   "source": [
    "window = tkinter.Tk()\n",
    "window.title(\"GUI Program\")\n",
    "window.minsize(width=500, height=300)\n",
    "window.config(padx=10, pady=10)\n",
    "\n",
    "def btn_click():\n",
    "    print(\"BTN CLICKED\")\n",
    "    dist_in_miles = miles_in_put.get()\n",
    "    print(dist_in_miles)\n",
    "    dist_in_km = float(dist_in_miles) * 1.609\n",
    "    print(dist_in_km)\n",
    "    km_out_put.config(text=f\"{dist_in_km}\")   \n",
    "    #label.config(text=txt)\n",
    "\n",
    "\n",
    "#component: entry\n",
    "miles_in_put = tkinter.Entry(width=20)\n",
    "#miles_in_put.get()\n",
    "#in_put.pack()\n",
    "#in_put.place(x=100,y=100)\n",
    "miles_in_put.grid(column=1, row=0)\n",
    "\n",
    "km_out_put = tkinter.Label(text=\"0\")\n",
    "#km_out_put.get()\n",
    "km_out_put.grid(column=1, row=1)\n",
    "\n",
    "\n",
    "#components: label\n",
    "miles_label = tkinter.Label(text=\"Miles\", font=(\"Ariel\", 26, \"bold\"))\n",
    "miles_label.config(text=\"Miles\", padx=5,pady=5)\n",
    "#label.pack(side=\"top\")      #displays label on screen\n",
    "#label.place(x=0, y=0)\n",
    "miles_label.grid(column=2, row=0)\n",
    "\n",
    "is_equal_t0_label = tkinter.Label(text=\"is equal to \", font=(\"Ariel\", 26, \"bold\"))\n",
    "is_equal_t0_label.config(padx=5, pady=5)\n",
    "is_equal_t0_label.grid(column=0, row=1)\n",
    "\n",
    "km_label = tkinter.Label(text=\"Km\", font=(\"Ariel\", 26, \"bold\"))\n",
    "km_label.config(padx=5, pady=5)\n",
    "km_label.grid(column=2, row=1)\n",
    "\n",
    "#component: button\n",
    "btn = tkinter.Button(text=\"calcuate\", command=btn_click)\n",
    "btn.config(padx=5, pady=5)\n",
    "#btn.pack()\n",
    "#btn.place(x=100, y=200)\n",
    "btn.grid(column=1, row=2)\n",
    "\n",
    "\n",
    "window.mainloop()     #has to be at very end"
   ]
  },
  {
   "cell_type": "code",
   "execution_count": 12,
   "id": "4422bacf",
   "metadata": {},
   "outputs": [
    {
     "name": "stdout",
     "output_type": "stream",
     "text": [
      "{'x': 5, 'y': 'bob', 'z': 'C'}\n",
      "None\n"
     ]
    }
   ],
   "source": [
    "def add(*args):               #*args --> tuple\n",
    "    sum = 0                   #**kwargs --> dictionary\n",
    "    for i in args:\n",
    "        sum = sum + i\n",
    "    return sum\n",
    "\n",
    "def method(**kwargs):\n",
    "    print(kwargs)\n",
    "\n",
    "#print(add(4,1,2,3,4))\n",
    "print(method(x=5, y=\"bob\", z='C'))"
   ]
  },
  {
   "cell_type": "code",
   "execution_count": null,
   "id": "9134ae78",
   "metadata": {},
   "outputs": [],
   "source": []
  }
 ],
 "metadata": {
  "kernelspec": {
   "display_name": "Python 3 (ipykernel)",
   "language": "python",
   "name": "python3"
  },
  "language_info": {
   "codemirror_mode": {
    "name": "ipython",
    "version": 3
   },
   "file_extension": ".py",
   "mimetype": "text/x-python",
   "name": "python",
   "nbconvert_exporter": "python",
   "pygments_lexer": "ipython3",
   "version": "3.9.7"
  }
 },
 "nbformat": 4,
 "nbformat_minor": 5
}
