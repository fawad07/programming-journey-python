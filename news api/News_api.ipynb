{
 "cells": [
  {
   "cell_type": "code",
   "execution_count": 105,
   "id": "95bb98b9",
   "metadata": {},
   "outputs": [],
   "source": [
    "import requests\n",
    "from twilio.rest import Client"
   ]
  },
  {
   "cell_type": "code",
   "execution_count": 113,
   "id": "5bc983ec",
   "metadata": {},
   "outputs": [],
   "source": [
    "STOCKS = [\"AAPL\", \"TSLA\", \"AMZN\", \"IBM\"]\n",
    "COMPANY_NAME = [\"APPLE\", \"TESLA\", \"AMAZON\", \"IBM\"]\n",
    "\n",
    "#STOCK API KEY AND END POINT\n",
    "STOCK_ENDPOINT = \"https://www.alphavantage.co/query\"\n",
    "STOCK_API_KEY = \"W2M61GHP6IAMEMO\"\n",
    "\n",
    "#NEWS API KEYS AND END POINT\n",
    "NEWS_ENDPOINT = \"https://newsapi.org/v2/everything\"\n",
    "NEWS_API_KEY = \"266f2acb261e4cc996d12d34bab69990\"\n",
    "\n",
    "#SEND SMS VIA TWILIO AUTH KEY AND SID\n",
    "ACCOUNT_SID = \"ACd5244954d03f658216f256cb7519b671\"\n",
    "AUTH_TOKEN =  \"9423385ff21bbb67a608ecda1db4b99e\"\n",
    "MY_TWILIO_NUM = \"+18145592427\""
   ]
  },
  {
   "cell_type": "code",
   "execution_count": 107,
   "id": "2f3844d3",
   "metadata": {},
   "outputs": [
    {
     "name": "stdout",
     "output_type": "stream",
     "text": [
      "\n",
      "Symbol: TSLA\tYesterdays closing price: 699.0000\n",
      "\n"
     ]
    }
   ],
   "source": [
    "#TODO 1 - GET YESTERDAYS STOCK CLOSING PRICE\n",
    "stock_params = {\n",
    "                \"function\":\"TIME_SERIES_DAILY\",\n",
    "                \"symbol\":STOCKS[1],\n",
    "                \"apikey\":STOCK_API_KEY,\n",
    "}\n",
    "res = requests.get(STOCK_ENDPOINT, params=stock_params)\n",
    "data = res.json()[\"Time Series (Daily)\"]\n",
    "symbol = res.json()[\"Meta Data\"][\"2. Symbol\"]\n",
    "print()\n",
    "\n",
    "data_list = [value for (key, value) in data.items()]\n",
    "yesterdays_closing = data_list[0][\"4. close\"]\n",
    "print(f\"Symbol: {symbol}\\tYesterdays closing price: {yesterdays_closing}\\n\")"
   ]
  },
  {
   "cell_type": "code",
   "execution_count": 108,
   "id": "841e9b23",
   "metadata": {},
   "outputs": [
    {
     "name": "stdout",
     "output_type": "stream",
     "text": [
      "Symbol: TSLA\tDay before yesterdays closing price: 662.6700\n",
      "\n"
     ]
    }
   ],
   "source": [
    "#TODO 2 - GET DAY BEFORE YESTERDAYS CLOSING PRICE\n",
    "day_before_yesterday_closing = data_list[1][\"4. close\"]\n",
    "print(f\"Symbol: {symbol}\\tDay before yesterdays closing price: {day_before_yesterday_closing}\\n\")"
   ]
  },
  {
   "cell_type": "code",
   "execution_count": 109,
   "id": "258a37e4",
   "metadata": {},
   "outputs": [
    {
     "name": "stdout",
     "output_type": "stream",
     "text": [
      "Difference between yesterdays closing price and day before yesterdays closing price: 36.33000000000004\n",
      "\n"
     ]
    }
   ],
   "source": [
    "#TODO 3 - FIND THE +ve DIFFERENCE BETWEEN TODO1 and TODO2 \n",
    "difference = abs(float(yesterdays_closing) - float(day_before_yesterday_closing))\n",
    "print(f\"Difference between yesterdays closing price and day before yesterdays closing price: {difference}\\n\")"
   ]
  },
  {
   "cell_type": "code",
   "execution_count": 110,
   "id": "6b6628ab",
   "metadata": {},
   "outputs": [
    {
     "name": "stdout",
     "output_type": "stream",
     "text": [
      "%age differecnce betwen yesterdays closing price and day before yesterdays closing price: 5.197424892703868\n",
      "\n"
     ]
    }
   ],
   "source": [
    "#TODO 4 - FIND THE %AGE DIFFERENCE BETWEEN YESTERDAY_CLOSING AND DAY_BEFORE_YESTERDAY_CLOSING\n",
    "diff_percent = difference / float(yesterdays_closing) * 100\n",
    "print(f\"%age differecnce betwen yesterdays closing price and day before yesterdays closing price: {diff_percent}\\n\")"
   ]
  },
  {
   "cell_type": "code",
   "execution_count": 111,
   "id": "3f06f8f2",
   "metadata": {},
   "outputs": [
    {
     "name": "stdout",
     "output_type": "stream",
     "text": [
      "GET NEWS\n",
      "{'source': {'id': 'engadget', 'name': 'Engadget'}, 'author': 'Jon Fingas', 'title': 'Tesla starts taking Semi truck reservations, five years later', 'description': \"Tesla's long-delayed Semi just took an important step toward becoming a practical reality. As CNETreports, the automaker has started taking reservations for its electric big rig. You'll need to place a $20,000 deposit ($15,000 of it by wire transfer), and Tes…\", 'url': 'https://www.engadget.com/tesla-semi-electric-big-rig-reservations-205325433.html', 'urlToImage': 'https://s.yimg.com/os/creatr-uploaded-images/2022-05/1ec29d90-d555-11ec-9b17-2ada57d57827', 'publishedAt': '2022-05-16T20:53:25Z', 'content': \"Tesla's long-delayed Semi just took an important step toward becoming a practical reality. As CNETreports, the automaker has started taking reservations for its electric big rig. You'll need to place… [+1488 chars]\"}\n"
     ]
    }
   ],
   "source": [
    "#TODO 5 - if %diff > 5.0 than print(get news), than get news from api\n",
    "if diff_percent > 5:\n",
    "    print(\"GET NEWS\")\n",
    "    news_params = {\n",
    "            \"apiKey\":NEWS_API_KEY,\n",
    "            \"qInTitle\":COMPANY_NAME[1],\n",
    "    }\n",
    "    news_response = requests.get(NEWS_ENDPOINT, params=news_params)\n",
    "    article = news_response.json()[\"articles\"]\n",
    "    articles_5 = article[:6]\n",
    "    print(articles_5[0])"
   ]
  },
  {
   "cell_type": "code",
   "execution_count": 112,
   "id": "7294d01f",
   "metadata": {},
   "outputs": [
    {
     "name": "stdout",
     "output_type": "stream",
     "text": [
      "[\"Headline: Tesla starts taking Semi truck reservations, five years later\\nDescription: Tesla's long-delayed Semi just took an important step toward becoming a practical reality. As CNETreports, the automaker has started taking reservations for its electric big rig. You'll need to place a $20,000 deposit ($15,000 of it by wire transfer), and Tes…\\n\", 'Headline: Could This Hack Get Your Tesla Stolen?\\nDescription: Tesla’s cars are notoriously hackable, and a new video demonstrates a way an adept cybercriminal could hope inside your car’s system and take it for a ride if they’re nearby.Read more...\\n', 'Headline: Elon Musk is reportedly looking to cut the Tesla workforce by 10 percent\\nDescription: Tesla CEO Elon Musk wants to cut around 10 percent of jobs at Tesla, according to a report from Reuters. In an email to executives, he wrote that he has a \"super bad feeling\" about the economy. Including its subsidiaries, Tesla employed around 100,000 people …\\n', 'Headline: Tesla, other EV companies ask for federal investment in heavy-duty truck charging\\nDescription: Electric vehicle companies, including Tesla and environmental groups, are asking the Biden administration to dedicate charging infrastructure funds to medium- and heavy-duty vehicles. Those vehicles are heavy polluters.\\n', 'Headline: US releases new driver-assist crash data, and surprise, it’s mostly Tesla\\nDescription: Federal regulators released new data on crashes involving autonomous vehicles and vehicles equipped with driver-assist technology. Tesla and Waymo, which have the most vehicles and drive the most miles, top the list.\\n', \"Headline: Tesla to Cut Staff by 10% as Musk Says He Has 'Super Bad Feeling' About Economy: Report\\nDescription: Tesla will cut its workforce by about 10% because CEO Elon Musk has a “super bad feeling” about the future of the economy, according to a new report from Reuters. The news agency cites an internal memo that was reportedly sent to Tesla executives and noted th…\\n\"]\n"
     ]
    }
   ],
   "source": [
    "#TOD0 6 - CREATE A LIST OF FIRST % ARTICLES HEADLINES AND DSCRIPTION\n",
    "#list comprehension = new_item for item in list/dict/tuple\n",
    "formatted_news = [f\"Headline: {i['title']}\\nDescription: {i['description']}\\n\" for i in articles_5] \n",
    "print(formatted_news)"
   ]
  },
  {
   "cell_type": "code",
   "execution_count": 115,
   "id": "c4b83181",
   "metadata": {},
   "outputs": [
    {
     "name": "stdout",
     "output_type": "stream",
     "text": [
      "queued\n"
     ]
    }
   ],
   "source": [
    "# TODO 7 - SEND HEADLINES TO SMS VIA TWILIO\n",
    "#twilio login dashboard\n",
    "sms_twilio_client = Client(ACCOUNT_SID, AUTH_TOKEN)\n",
    "for i in formatted_news:\n",
    "    message = sms_twilio_client.messages.create(\n",
    "        body = i,\n",
    "        from_ = MY_TWILIO_NUM,\n",
    "        to = \"+16504096346\")\n",
    "print(message.status)"
   ]
  },
  {
   "cell_type": "code",
   "execution_count": null,
   "id": "d22f58b2",
   "metadata": {},
   "outputs": [],
   "source": []
  }
 ],
 "metadata": {
  "kernelspec": {
   "display_name": "Python 3 (ipykernel)",
   "language": "python",
   "name": "python3"
  },
  "language_info": {
   "codemirror_mode": {
    "name": "ipython",
    "version": 3
   },
   "file_extension": ".py",
   "mimetype": "text/x-python",
   "name": "python",
   "nbconvert_exporter": "python",
   "pygments_lexer": "ipython3",
   "version": "3.9.7"
  }
 },
 "nbformat": 4,
 "nbformat_minor": 5
}
