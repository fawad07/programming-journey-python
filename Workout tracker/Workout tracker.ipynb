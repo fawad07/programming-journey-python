{
 "cells": [
  {
   "cell_type": "code",
   "execution_count": 1,
   "id": "ad1228f0",
   "metadata": {},
   "outputs": [],
   "source": [
    "import requests\n",
    "from datetime import datetime"
   ]
  },
  {
   "cell_type": "code",
   "execution_count": 2,
   "id": "18314314",
   "metadata": {},
   "outputs": [],
   "source": [
    "\n",
    "GENDER = \"male\"\n",
    "WEIGHT_LBS = 190\n",
    "HEIGHT_FTS = 5.9166667\n",
    "AGE = 28\n",
    "\n",
    "\n",
    "APP_ID = \"6bad03cd\"\n",
    "APP_KEY = \"7c9059b6e4d9e5e17baac6d4284ab625\"\n",
    "\n",
    "ex_endpoint = \"https://trackapi.nutritionix.com/v2/natural/exercise\"\n",
    "sheety_endpoint = \"https://api.sheety.co/a25712597d88fc8bd043215a39ebfd12/workoutTracker/workouts\""
   ]
  },
  {
   "cell_type": "code",
   "execution_count": 17,
   "id": "22651aec",
   "metadata": {},
   "outputs": [
    {
     "name": "stdout",
     "output_type": "stream",
     "text": [
      "WHAT EXCERSICE DID YOU DO: chest\n",
      "{'exercises': [{'tag_id': 843, 'user_input': 'chest', 'duration_min': 15, 'met': 3.5, 'nf_calories': 61.25, 'photo': {'highres': 'https://d2xdmhkmkbyw75.cloudfront.net/exercise/843_highres.jpg', 'thumb': 'https://d2xdmhkmkbyw75.cloudfront.net/exercise/843_thumb.jpg', 'is_user_uploaded': False}, 'compendium_code': 2054, 'name': 'chest press', 'description': None, 'benefits': None}]}\n"
     ]
    }
   ],
   "source": [
    "header = {\n",
    "            \"x-app-id\": APP_ID,\n",
    "            \"x-app-key\":APP_KEY\n",
    "         }\n",
    "\n",
    "\n",
    "ex_text = input(\"WHAT EXCERSICE DID YOU DO: \")\n",
    "\n",
    "parameter = {\n",
    "                \"query\":ex_text,\n",
    "                \"gender\":GENDER,\n",
    "                #\"weight_lbs\":WEIGHT_LBS,\n",
    "                #\"height_ft\":HEIGHT_FTS,\n",
    "                \"age\":AGE\n",
    "            }\n",
    "\n",
    "\n",
    "res = requests.post(url=ex_endpoint, json=parameter, headers=header)\n",
    "res.raise_for_status()\n",
    "\n",
    "result = res.json()\n",
    "print(result)"
   ]
  },
  {
   "cell_type": "code",
   "execution_count": 18,
   "id": "dce90a0a",
   "metadata": {},
   "outputs": [
    {
     "name": "stdout",
     "output_type": "stream",
     "text": [
      "{\n",
      "  \"workout\": {\n",
      "    \"date\": \"25/09/2022\",\n",
      "    \"time\": \"17:09:38\",\n",
      "    \"exercise\": \"Chest\",\n",
      "    \"duration\": 15,\n",
      "    \"catagory\": \"Chest Press\",\n",
      "    \"calories\": 61.25,\n",
      "    \"id\": 19\n",
      "  }\n",
      "}\n"
     ]
    }
   ],
   "source": [
    "today_date = datetime.now().strftime(\"%d/%m/%Y\")\n",
    "now_time = datetime.now().strftime(\"%X\")\n",
    "\n",
    "    \n",
    "for i in result[\"exercises\"]:\n",
    "    sheet_inputs = {\n",
    "        \"workout\": {\n",
    "            \"date\": today_date,\n",
    "            \"time\": now_time,\n",
    "            \"exercise\": i[\"user_input\"].title(),\n",
    "            \"catagory\":i[\"name\"].title(),\n",
    "            \"duration\": i[\"duration_min\"],\n",
    "            \"calories\": i[\"nf_calories\"]\n",
    "            }\n",
    "        }\n",
    "\n",
    "    sheet_response = requests.post(url=sheety_endpoint, json=sheet_inputs)\n",
    "\n",
    "    print(sheet_response.text)"
   ]
  },
  {
   "cell_type": "code",
   "execution_count": 3,
   "id": "57c5ad85",
   "metadata": {},
   "outputs": [],
   "source": [
    "#rx from home stuff\n",
    "#NOTE WHEN USING SHEETY : params {sheet name: {keysNameCamelCase : value} } "
   ]
  },
  {
   "cell_type": "code",
   "execution_count": 5,
   "id": "31712618",
   "metadata": {},
   "outputs": [
    {
     "name": "stdout",
     "output_type": "stream",
     "text": [
      "Enter First name: sherin\n",
      "Enter Middle name: binder\n",
      "Enter Last name: sighn\n",
      "Enter Date of Birth(MMDDYYY): 12151987\n",
      "Enter phone number(0000000000): 2589741230\n",
      "response.status_code = 200\n",
      "response.text = {'sheet1': {'date': '09/27/2022', 'time': '07:29:15', 'firstName': 'sherin', 'middleName': 'binder', 'lastName': 'sighn', 'phoneNumber': '2589741230', 'dob': '12151987', 'id': 4}}\n"
     ]
    }
   ],
   "source": [
    "auth_header = {\n",
    "                \"Authorization\" : \"Basic cnhmcm9taG9tZTpIMm9jbzJoY2xA\"\n",
    "                }\n",
    "sheety_endpoint_post = \"https://api.sheety.co/a25712597d88fc8bd043215a39ebfd12/rxfromhome/sheet1\"\n",
    "\n",
    "fname = \"james\"\n",
    "mname = \"\"\n",
    "lname = \"salty\"\n",
    "dob = \"02151966\"\n",
    "phone = \"1234567890\"\n",
    "\n",
    "fname = input(\"Enter First name: \")\n",
    "mname = input(\"Enter Middle name: \")\n",
    "lname = input(\"Enter Last name: \")\n",
    "dob = input(\"Enter Date of Birth(MMDDYYY): \")\n",
    "phone = input(\"Enter phone number(0000000000): \")\n",
    "\n",
    "\n",
    "t_date = datetime.now().strftime(\"%m/%d/%Y\")\n",
    "time = datetime.now().strftime(\"%X\")\n",
    "\n",
    "params = {\n",
    "    \"sheet1\": {\n",
    "        \"date\": t_date,\n",
    "        \"time\": time,\n",
    "        \"firstName\": fname,\n",
    "        \"middleName\": mname,\n",
    "        \"lastName\": lname,\n",
    "        \"phoneNumber\": phone,\n",
    "        \"dob\": dob\n",
    "    }\n",
    "}\n",
    "\n",
    "\n",
    "sheet_response = requests.post(url=sheety_endpoint_post, json=params, headers=auth_header)\n",
    "output = sheet_response.json()\n",
    "\n",
    "print(\"response.status_code =\", sheet_response.status_code)\n",
    "print(\"response.text =\", output)"
   ]
  },
  {
   "cell_type": "code",
   "execution_count": null,
   "id": "88524e27",
   "metadata": {},
   "outputs": [],
   "source": []
  },
  {
   "cell_type": "code",
   "execution_count": null,
   "id": "13cd36d4",
   "metadata": {},
   "outputs": [],
   "source": []
  }
 ],
 "metadata": {
  "kernelspec": {
   "display_name": "Python 3 (ipykernel)",
   "language": "python",
   "name": "python3"
  },
  "language_info": {
   "codemirror_mode": {
    "name": "ipython",
    "version": 3
   },
   "file_extension": ".py",
   "mimetype": "text/x-python",
   "name": "python",
   "nbconvert_exporter": "python",
   "pygments_lexer": "ipython3",
   "version": "3.9.7"
  }
 },
 "nbformat": 4,
 "nbformat_minor": 5
}
