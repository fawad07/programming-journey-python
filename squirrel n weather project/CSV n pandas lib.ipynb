{
 "cells": [
  {
   "cell_type": "code",
   "execution_count": 5,
   "id": "96816c8a",
   "metadata": {
    "scrolled": true
   },
   "outputs": [
    {
     "name": "stdout",
     "output_type": "stream",
     "text": [
      "['day,temp,condition\\n', 'Monday,12,Sunny\\n', 'Tuesday,14,Rain\\n', 'Wednesday,15,Rain\\n', 'Thursday,14,Cloudy\\n', 'Friday,21,Sunny\\n', 'Saturday,22,Sunny\\n', 'Sunday,24,Sunny']\n"
     ]
    }
   ],
   "source": [
    "with open(r\"weather_data.csv\") as data_f:\n",
    "    data = data_f.readlines()\n",
    "    print(data)"
   ]
  },
  {
   "cell_type": "code",
   "execution_count": 19,
   "id": "21173022",
   "metadata": {},
   "outputs": [
    {
     "name": "stdout",
     "output_type": "stream",
     "text": [
      "[12, 14, 15, 14, 21, 22, 24]\n"
     ]
    }
   ],
   "source": [
    "import csv\n",
    "with open(r\"weather_data.csv\") as data_f:\n",
    "    data = csv.reader(data_f)\n",
    "    temp = []\n",
    "    for i in data:\n",
    "        if i[1] != \"temp\":\n",
    "            temp.append(int(i[1]))\n",
    "    print(temp)"
   ]
  },
  {
   "cell_type": "code",
   "execution_count": 29,
   "id": "9b288ec4",
   "metadata": {},
   "outputs": [
    {
     "name": "stdout",
     "output_type": "stream",
     "text": [
      "<class 'pandas.core.frame.DataFrame'>\n",
      "<class 'pandas.core.series.Series'>\n"
     ]
    }
   ],
   "source": [
    "import pandas as pd\n",
    "df = pd.read_csv(\"weather_data.csv\")\n",
    "print(type(df))                     #dataframe 2d array\n",
    "print(type(df[\"temp\"]))     #SERIES works like a list should use to_list() "
   ]
  },
  {
   "cell_type": "code",
   "execution_count": 34,
   "id": "83a9072c",
   "metadata": {},
   "outputs": [
    {
     "name": "stdout",
     "output_type": "stream",
     "text": [
      "{'day': {0: 'Monday', 1: 'Tuesday', 2: 'Wednesday', 3: 'Thursday', 4: 'Friday', 5: 'Saturday', 6: 'Sunday'}, 'temp': {0: 12, 1: 14, 2: 15, 3: 14, 4: 21, 5: 22, 6: 24}, 'condition': {0: 'Sunny', 1: 'Rain', 2: 'Rain', 3: 'Cloudy', 4: 'Sunny', 5: 'Sunny', 6: 'Sunny'}}\n",
      "\n",
      "\n",
      "[12, 14, 15, 14, 21, 22, 24]\n"
     ]
    }
   ],
   "source": [
    "a_dict = df.to_dict()\n",
    "print(a_dict)\n",
    "print(\"\\n\")\n",
    "print(df[\"temp\"].to_list())\n"
   ]
  },
  {
   "cell_type": "code",
   "execution_count": 38,
   "id": "9382b761",
   "metadata": {},
   "outputs": [
    {
     "name": "stdout",
     "output_type": "stream",
     "text": [
      "17.428571428571427\n",
      "17.428571428571427\n"
     ]
    }
   ],
   "source": [
    "temp = df[\"temp\"].to_list()\n",
    "add = 0;\n",
    "avg = 0\n",
    "for i in temp:\n",
    "    add = add + i\n",
    "avg = add / len(temp)\n",
    "print(df[\"temp\"].mean())\n",
    "print(avg)"
   ]
  },
  {
   "cell_type": "code",
   "execution_count": 39,
   "id": "a3a2c1e0",
   "metadata": {},
   "outputs": [
    {
     "name": "stdout",
     "output_type": "stream",
     "text": [
      "24\n"
     ]
    }
   ],
   "source": [
    "a_max = df[\"temp\"].max()\n",
    "print(a_max)"
   ]
  },
  {
   "cell_type": "code",
   "execution_count": 40,
   "id": "a0b133db",
   "metadata": {},
   "outputs": [
    {
     "name": "stdout",
     "output_type": "stream",
     "text": [
      "0     Sunny\n",
      "1      Rain\n",
      "2      Rain\n",
      "3    Cloudy\n",
      "4     Sunny\n",
      "5     Sunny\n",
      "6     Sunny\n",
      "Name: condition, dtype: object\n"
     ]
    }
   ],
   "source": [
    "print(df.condition)"
   ]
  },
  {
   "cell_type": "code",
   "execution_count": 45,
   "id": "524734cd",
   "metadata": {},
   "outputs": [
    {
     "name": "stdout",
     "output_type": "stream",
     "text": [
      "      day  temp condition\n",
      "4  Friday    21     Sunny\n"
     ]
    }
   ],
   "source": [
    "print(df[df[\"day\"] == \"Friday\"])"
   ]
  },
  {
   "cell_type": "code",
   "execution_count": 47,
   "id": "3af3c279",
   "metadata": {},
   "outputs": [
    {
     "name": "stdout",
     "output_type": "stream",
     "text": [
      "      day  temp condition\n",
      "6  Sunday    24     Sunny\n"
     ]
    }
   ],
   "source": [
    "print(df[df[\"temp\"] == df[\"temp\"].max()])#get col and add condition to get row"
   ]
  },
  {
   "cell_type": "code",
   "execution_count": 51,
   "id": "9cdc1bfd",
   "metadata": {},
   "outputs": [
    {
     "name": "stdout",
     "output_type": "stream",
     "text": [
      "0    Sunny\n",
      "Name: condition, dtype: object\n"
     ]
    }
   ],
   "source": [
    "mon = df[df[\"day\"] == \"Monday\"]\n",
    "print(mon[\"condition\"])"
   ]
  },
  {
   "cell_type": "code",
   "execution_count": 53,
   "id": "070f7893",
   "metadata": {},
   "outputs": [
    {
     "name": "stdout",
     "output_type": "stream",
     "text": [
      "0    53.6\n",
      "Name: temp, dtype: float64\n"
     ]
    }
   ],
   "source": [
    "mon = df[df[\"day\"] == \"Monday\"]\n",
    "mon_temp = mon[\"temp\"]\n",
    "F = mon_temp * (9/5) + 32\n",
    "print(F)"
   ]
  },
  {
   "cell_type": "code",
   "execution_count": 55,
   "id": "517229bd",
   "metadata": {},
   "outputs": [],
   "source": [
    "#data frame from scratch\n",
    "data = {\n",
    "    \"student\": [\"John\", \"Marry\", \"Bob\"],\n",
    "    \"scores\": [45, 62, 27]\n",
    "}\n",
    "\n",
    "data = pd.DataFrame(data)\n",
    "data.to_csv(\"new_data.csv\")"
   ]
  },
  {
   "cell_type": "code",
   "execution_count": 75,
   "id": "bf54815c",
   "metadata": {},
   "outputs": [
    {
     "name": "stdout",
     "output_type": "stream",
     "text": [
      "2473\n",
      "392\n",
      "103\n"
     ]
    }
   ],
   "source": [
    "df = pd.read_csv(\"squirrel_Data.csv\")\n",
    "gray_color = df[df[\"Primary Fur Color\"] == \"Gray\"]\n",
    "gray_color_count = len(gray_color)\n",
    "print(gray_color_count)\n",
    "\n",
    "cinn_color = df[df[\"Primary Fur Color\"] == \"Cinnamon\"]\n",
    "cinn_color_count = len(cinn_color)\n",
    "print(cinn_color_count)\n",
    "\n",
    "black_color = df[df[\"Primary Fur Color\"] == \"Black\"]\n",
    "black_color_count = len(black_color)\n",
    "print(black_color_count)"
   ]
  },
  {
   "cell_type": "code",
   "execution_count": 77,
   "id": "8b24733b",
   "metadata": {},
   "outputs": [
    {
     "data": {
      "text/html": [
       "<div>\n",
       "<style scoped>\n",
       "    .dataframe tbody tr th:only-of-type {\n",
       "        vertical-align: middle;\n",
       "    }\n",
       "\n",
       "    .dataframe tbody tr th {\n",
       "        vertical-align: top;\n",
       "    }\n",
       "\n",
       "    .dataframe thead th {\n",
       "        text-align: right;\n",
       "    }\n",
       "</style>\n",
       "<table border=\"1\" class=\"dataframe\">\n",
       "  <thead>\n",
       "    <tr style=\"text-align: right;\">\n",
       "      <th></th>\n",
       "      <th>Color</th>\n",
       "      <th>Count</th>\n",
       "    </tr>\n",
       "  </thead>\n",
       "  <tbody>\n",
       "    <tr>\n",
       "      <th>0</th>\n",
       "      <td>Gray</td>\n",
       "      <td>2473</td>\n",
       "    </tr>\n",
       "    <tr>\n",
       "      <th>1</th>\n",
       "      <td>Cinnamon</td>\n",
       "      <td>392</td>\n",
       "    </tr>\n",
       "    <tr>\n",
       "      <th>2</th>\n",
       "      <td>Black</td>\n",
       "      <td>103</td>\n",
       "    </tr>\n",
       "  </tbody>\n",
       "</table>\n",
       "</div>"
      ],
      "text/plain": [
       "      Color  Count\n",
       "0      Gray   2473\n",
       "1  Cinnamon    392\n",
       "2     Black    103"
      ]
     },
     "execution_count": 77,
     "metadata": {},
     "output_type": "execute_result"
    }
   ],
   "source": [
    "#construct DataFrame\n",
    "data_dict = {\n",
    "    \"Color\" : [\"Gray\", \"Cinnamon\", \"Black\"],\n",
    "    \"Count\" : [gray_color_count, cinn_color_count, black_color_count]\n",
    "}\n",
    "df = pd.DataFrame(data_dict)\n",
    "df.to_csv(\"new_squirrellData.csv\")\n",
    "df"
   ]
  },
  {
   "cell_type": "code",
   "execution_count": null,
   "id": "3f0a5562",
   "metadata": {},
   "outputs": [],
   "source": []
  }
 ],
 "metadata": {
  "kernelspec": {
   "display_name": "Python 3 (ipykernel)",
   "language": "python",
   "name": "python3"
  },
  "language_info": {
   "codemirror_mode": {
    "name": "ipython",
    "version": 3
   },
   "file_extension": ".py",
   "mimetype": "text/x-python",
   "name": "python",
   "nbconvert_exporter": "python",
   "pygments_lexer": "ipython3",
   "version": "3.9.7"
  }
 },
 "nbformat": 4,
 "nbformat_minor": 5
}
