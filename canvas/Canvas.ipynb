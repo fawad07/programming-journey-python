{
 "cells": [
  {
   "cell_type": "code",
   "execution_count": 39,
   "id": "475b4767",
   "metadata": {},
   "outputs": [],
   "source": [
    "from tkinter import *\n",
    "import math"
   ]
  },
  {
   "cell_type": "code",
   "execution_count": 66,
   "id": "3dcd8f3f",
   "metadata": {},
   "outputs": [],
   "source": [
    "#----------------- CONSTANTS-------------------------\n",
    "PINK = \"#e2979c\"\n",
    "RED = \"#e7305b\"\n",
    "GREEN = \"#9bdeac\"\n",
    "YELLOW = \"#f7f5dd\"\n",
    "FONT_NAME = \"Times New Roman\"\n",
    "WORK_MIN = 1\n",
    "SHORT_BREAK_MIN = 5\n",
    "LONG_BREAK_MIN = 20\n",
    "CHECK_MARK = \"✔️\"\n",
    "reps = 0\n",
    "timer = None"
   ]
  },
  {
   "cell_type": "code",
   "execution_count": 67,
   "id": "a833321e",
   "metadata": {},
   "outputs": [],
   "source": [
    "#-------------------- TIMER RESET ----------------------\n",
    "def reset_timer():\n",
    "    window.after_cancel(timer)\n",
    "    canvas.itemconfig(timer_txt, text=\"00:00\")\n",
    "    timer_l.config(text=\"Timer\")\n",
    "    check_mark.config(text=\" \")\n",
    "    global reps\n",
    "    reps = 0\n",
    "    "
   ]
  },
  {
   "cell_type": "code",
   "execution_count": 63,
   "id": "b46cd12d",
   "metadata": {},
   "outputs": [],
   "source": [
    "#-------------------- TIMER MECHANICS ------------------\n",
    "def start_timer():\n",
    "    global reps\n",
    "    reps += 1\n",
    "    \n",
    "    work_sec = WORK_MIN * 60\n",
    "    short_break_sec = SHORT_BREAK_MIN * 60\n",
    "    long_break_sec = LONG_BREAK_MIN * 60\n",
    "    \n",
    "    \n",
    "    #if rep 8th:\n",
    "    if reps % 8 == 0:\n",
    "        count_down(long_break_sec)\n",
    "        timer_l.config(text=\"20 min Break\", fg=RED)\n",
    "    \n",
    "    #if rep 2nd/ 4th/ 6th:\n",
    "    elif reps % 2 == 0:\n",
    "        count_down(short_break_sec)\n",
    "        timer_l.config(text=\"5 min Break\", fg=PINK)\n",
    "    \n",
    "    else:\n",
    "        #if rep 1st/3rd/5th/7th:\n",
    "        count_down(work_sec)\n",
    "        timer_l.config(text=\"Work Time\", fg=GREEN)\n",
    "    "
   ]
  },
  {
   "cell_type": "code",
   "execution_count": 64,
   "id": "4fefdde1",
   "metadata": {},
   "outputs": [],
   "source": [
    "#-------------------- COUNT DOWN MECHANICS -------------\n",
    "def count_down(count):\n",
    "    minutes = math.floor(count / 60)\n",
    "    seconds = math.floor(count % 60)\n",
    "    if(seconds < 10):\n",
    "        seconds = f\"0{seconds}\"\n",
    "    canvas.itemconfig(timer_txt, text=f\"{minutes}:{seconds}\")\n",
    "    if(count > 0):\n",
    "        #print(count)\n",
    "        global timer\n",
    "        timer = window.after(1000, count_down, count - 1)\n",
    "    else:\n",
    "        start_timer()\n",
    "        mark = \"\"\n",
    "        work_session = math.floor(reps/2)\n",
    "        for _ in range(work_session):\n",
    "            mark += CHECK_MARK\n",
    "            \n",
    "        check_mark.config(text=mark)\n",
    " "
   ]
  },
  {
   "cell_type": "code",
   "execution_count": 65,
   "id": "f0605f4f",
   "metadata": {},
   "outputs": [
    {
     "name": "stderr",
     "output_type": "stream",
     "text": [
      "Exception in Tkinter callback\n",
      "Traceback (most recent call last):\n",
      "  File \"C:\\Users\\samina\\anaconda3\\lib\\tkinter\\__init__.py\", line 1892, in __call__\n",
      "    return self.func(*args)\n",
      "  File \"C:\\Users\\samina\\AppData\\Local\\Temp/ipykernel_12084/624337785.py\", line 4, in reset_timer\n",
      "    timer_txt.config(text=\"00:00\")\n",
      "AttributeError: 'int' object has no attribute 'config'\n",
      "Exception in Tkinter callback\n",
      "Traceback (most recent call last):\n",
      "  File \"C:\\Users\\samina\\anaconda3\\lib\\tkinter\\__init__.py\", line 1892, in __call__\n",
      "    return self.func(*args)\n",
      "  File \"C:\\Users\\samina\\AppData\\Local\\Temp/ipykernel_12084/624337785.py\", line 4, in reset_timer\n",
      "    timer_txt.config(text=\"00:00\")\n",
      "AttributeError: 'int' object has no attribute 'config'\n"
     ]
    }
   ],
   "source": [
    "#-------------------- UI SETUP -------------------------\n",
    "window = Tk()\n",
    "window.title(\"TOMATO\")\n",
    "window.config(padx=75, pady=75, bg=YELLOW)\n",
    "\n",
    "#--------TIMER LABEL--------\n",
    "timer_l = Label(text=\"Timer\", font=(FONT_NAME, 50, \"bold\"), fg=GREEN,bg=YELLOW)\n",
    "timer_l.grid(column=1, row=0)\n",
    "\n",
    "#-------Buttons-------------\n",
    "start_btn = Button(text=\"Start\", command=start_timer)\n",
    "start_btn.config(padx=5, pady=5)\n",
    "start_btn.grid(column=0, row=3)\n",
    "\n",
    "reset_btn = Button(text=\"Reset\", command=reset_timer)\n",
    "reset_btn.config(padx=5, pady=5)\n",
    "reset_btn.grid(column=2, row=3)\n",
    "\n",
    "#------CHECK MARKS----------\n",
    "check_mark = Label(text=\"\", fg=GREEN, bg=YELLOW)\n",
    "check_mark.config(font=(\"\", 30))\n",
    "check_mark.grid(column=1, row=3)\n",
    "\n",
    "#CANVAS ALLOWS TO PUT ONETHING ON TOP OF ANOTHER LIKE LAYERS\n",
    "canvas = Canvas(width=300, height=300, bg=YELLOW, highlightthickness=0)\n",
    "img = PhotoImage(file=\"tomato.png\")\n",
    "canvas.create_image(150, 150, image=img)\n",
    "\n",
    "timer_txt = canvas.create_text(150, 200, text=\"00:00\", fill=\"BLACK\", font=(FONT_NAME, 40, \"bold\"))\n",
    "canvas.grid(column=1, row=1)\n",
    "\n",
    "window.mainloop()"
   ]
  },
  {
   "cell_type": "code",
   "execution_count": null,
   "id": "824b8eb4",
   "metadata": {},
   "outputs": [],
   "source": []
  },
  {
   "cell_type": "code",
   "execution_count": null,
   "id": "0412d140",
   "metadata": {},
   "outputs": [],
   "source": []
  }
 ],
 "metadata": {
  "kernelspec": {
   "display_name": "Python 3 (ipykernel)",
   "language": "python",
   "name": "python3"
  },
  "language_info": {
   "codemirror_mode": {
    "name": "ipython",
    "version": 3
   },
   "file_extension": ".py",
   "mimetype": "text/x-python",
   "name": "python",
   "nbconvert_exporter": "python",
   "pygments_lexer": "ipython3",
   "version": "3.9.7"
  }
 },
 "nbformat": 4,
 "nbformat_minor": 5
}
